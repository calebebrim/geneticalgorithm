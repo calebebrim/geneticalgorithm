{
  "cells": [
    {
      "cell_type": "markdown",
      "metadata": {
        "id": "view-in-github",
        "colab_type": "text"
      },
      "source": [
        "<a href=\"https://colab.research.google.com/github/calebebrim/geneticalgorithm/blob/master/Notebooks/Aplica%C3%A7%C3%A3o_Algoritmos_Gen%C3%A9ticos.ipynb\" target=\"_parent\"><img src=\"https://colab.research.google.com/assets/colab-badge.svg\" alt=\"Open In Colab\"/></a>"
      ]
    },
    {
      "cell_type": "markdown",
      "metadata": {
        "id": "91Qgmy1F1umL"
      },
      "source": [
        "# Instalando Ambiente\n",
        "criado a aplicação\n",
        "\n"
      ]
    },
    {
      "cell_type": "code",
      "execution_count": 1,
      "metadata": {
        "colab": {
          "base_uri": "https://localhost:8080/"
        },
        "id": "42nOLuBLmCj6",
        "outputId": "ce62a42d-b915-4f1b-f4f8-3fdb9000d547"
      },
      "outputs": [
        {
          "output_type": "stream",
          "name": "stdout",
          "text": [
            "Cloning into 'geneticalgorithm'...\n",
            "remote: Enumerating objects: 138, done.\u001b[K\n",
            "remote: Counting objects: 100% (22/22), done.\u001b[K\n",
            "remote: Compressing objects: 100% (17/17), done.\u001b[K\n",
            "remote: Total 138 (delta 4), reused 15 (delta 3), pack-reused 116\u001b[K\n",
            "Receiving objects: 100% (138/138), 108.48 KiB | 9.86 MiB/s, done.\n",
            "Resolving deltas: 100% (38/38), done.\n"
          ]
        }
      ],
      "source": [
        "!git clone https://github.com/calebebrim/geneticalgorithm.git"
      ]
    },
    {
      "cell_type": "markdown",
      "metadata": {
        "id": "2spT54Cp2Fgx"
      },
      "source": [
        "Alterando a pasta raiz\n"
      ]
    },
    {
      "cell_type": "code",
      "execution_count": 2,
      "metadata": {
        "colab": {
          "base_uri": "https://localhost:8080/"
        },
        "id": "57aODOivzv7x",
        "outputId": "e8a35a42-6696-4dba-95f1-26090e7c4db8"
      },
      "outputs": [
        {
          "output_type": "stream",
          "name": "stdout",
          "text": [
            "/content/geneticalgorithm\n",
            "dist\t\t     __init__.py  Makefile   README.md\tsrc\n",
            "geneticalgorithm.py  LICENCE\t  Notebooks  setup.py\n"
          ]
        }
      ],
      "source": [
        "%cd /content/geneticalgorithm\n",
        "!ls"
      ]
    },
    {
      "cell_type": "markdown",
      "metadata": {
        "id": "YaJdHWpS1tq1"
      },
      "source": [
        "# Executando os exemplos"
      ]
    },
    {
      "cell_type": "markdown",
      "metadata": {
        "id": "oUCYrG8Q2cfl"
      },
      "source": [
        "Minimization: \n",
        "\n",
        "$e =$ number count\n",
        "$e =$ number count\n",
        "\n",
        "$F(e) = min(\\sum_{i=0}^e(n_i))$\n",
        "\n",
        "having\n",
        "\n",
        "$(n_i 𝛜 𝓝 | n<=10)$  \n"
      ]
    },
    {
      "cell_type": "code",
      "execution_count": 3,
      "metadata": {
        "colab": {
          "base_uri": "https://localhost:8080/"
        },
        "id": "v6nFX6ZLz_S2",
        "outputId": "a83a7f6c-7211-470c-f7c2-37ed48627928"
      },
      "outputs": [
        {
          "output_type": "stream",
          "name": "stdout",
          "text": [
            "python -m src.examples.sum_minimization\n",
            "nbits: 4\n",
            "Generating Population With: \n",
            "                    \r\t- Gene Size: 8\n",
            "                    \r\t- Population Size: 10\n",
            "                    \r\t- Population Type: <class 'bool'>\n",
            "                    \r\t- Generations: 1000\n",
            "                    \r\t- Generations for each ephoch: 100\n",
            "                    \r\t- Selection Count: 10\n",
            "            \n",
            "================(Epoch: 1 Generation: 100)=======================\n",
            "{'max': 24, 'min': 1, 'avg': 10.4}\n",
            "Best:  0\n",
            "================(Epoch: 1 Generation: 100)=======================\n",
            "================(Epoch: 2 Generation: 200)=======================\n",
            "{'max': 22, 'min': 2, 'avg': 13.7}\n",
            "Best:  0\n",
            "================(Epoch: 2 Generation: 200)=======================\n",
            "================(Epoch: 3 Generation: 300)=======================\n",
            "{'max': 26, 'min': 6, 'avg': 15.0}\n",
            "Best:  0\n",
            "================(Epoch: 3 Generation: 300)=======================\n",
            "================(Epoch: 4 Generation: 400)=======================\n",
            "{'max': 25, 'min': 5, 'avg': 12.6}\n",
            "Best:  0\n",
            "================(Epoch: 4 Generation: 400)=======================\n",
            "================(Epoch: 5 Generation: 500)=======================\n",
            "{'max': 24, 'min': 6, 'avg': 16.0}\n",
            "Best:  0\n",
            "================(Epoch: 5 Generation: 500)=======================\n",
            "================(Epoch: 6 Generation: 600)=======================\n",
            "{'max': 28, 'min': 5, 'avg': 14.6}\n",
            "Best:  0\n",
            "================(Epoch: 6 Generation: 600)=======================\n",
            "================(Epoch: 7 Generation: 700)=======================\n",
            "{'max': 28, 'min': 5, 'avg': 17.3}\n",
            "Best:  0\n",
            "================(Epoch: 7 Generation: 700)=======================\n",
            "================(Epoch: 8 Generation: 800)=======================\n",
            "{'max': 27, 'min': 10, 'avg': 19.6}\n",
            "Best:  0\n",
            "================(Epoch: 8 Generation: 800)=======================\n",
            "================(Epoch: 9 Generation: 900)=======================\n",
            "{'max': 22, 'min': 7, 'avg': 15.5}\n",
            "Best:  0\n",
            "================(Epoch: 9 Generation: 900)=======================\n",
            "================(Epoch: 10 Generation: 1000)=======================\n",
            "{'max': 22, 'min': 3, 'avg': 15.7}\n",
            "Best:  0\n",
            "================(Epoch: 10 Generation: 1000)=======================\n",
            "BEST:  [False False False False False False False False]\n",
            "==========Evaluation=============\n",
            "Achieved:  [0] Expected: 0\n"
          ]
        }
      ],
      "source": [
        "!make minimization"
      ]
    },
    {
      "cell_type": "code",
      "execution_count": 4,
      "metadata": {
        "colab": {
          "base_uri": "https://localhost:8080/"
        },
        "id": "rCXd7rxn3x92",
        "outputId": "5c6d5cc2-cc08-4f10-e634-70dca24205a4"
      },
      "outputs": [
        {
          "output_type": "stream",
          "name": "stdout",
          "text": [
            "python -m src.examples.sum_maximization\n",
            "nbits: 5\n",
            "Generating Population With: \n",
            "\t- Gene Size: 10\n",
            "\t- Population Size: 20\n",
            "\t- Population Type: <class 'bool'>\n",
            "\t- Generations: 1000\n",
            "\t- Generations for each ephoch: 100\n",
            "\t- Selection Count: 10\n",
            "            \n",
            "================(Epoch: 1 Generation: 100)=======================\n",
            "{'max': 57, 'min': 8, 'avg': 39.0}\n",
            "Best:  62\n",
            "================(Epoch: 1 Generation: 100)=======================\n",
            "================(Epoch: 2 Generation: 200)=======================\n",
            "{'max': 58, 'min': 16, 'avg': 35.35}\n",
            "Best:  62\n",
            "================(Epoch: 2 Generation: 200)=======================\n",
            "================(Epoch: 3 Generation: 300)=======================\n",
            "{'max': 59, 'min': 16, 'avg': 34.8}\n",
            "Best:  62\n",
            "================(Epoch: 3 Generation: 300)=======================\n",
            "================(Epoch: 4 Generation: 400)=======================\n",
            "{'max': 59, 'min': 12, 'avg': 34.6}\n",
            "Best:  62\n",
            "================(Epoch: 4 Generation: 400)=======================\n",
            "================(Epoch: 5 Generation: 500)=======================\n",
            "{'max': 56, 'min': 4, 'avg': 30.05}\n",
            "Best:  62\n",
            "================(Epoch: 5 Generation: 500)=======================\n",
            "================(Epoch: 6 Generation: 600)=======================\n",
            "{'max': 44, 'min': 2, 'avg': 27.0}\n",
            "Best:  62\n",
            "================(Epoch: 6 Generation: 600)=======================\n",
            "================(Epoch: 7 Generation: 700)=======================\n",
            "{'max': 44, 'min': 9, 'avg': 23.6}\n",
            "Best:  62\n",
            "================(Epoch: 7 Generation: 700)=======================\n",
            "================(Epoch: 8 Generation: 800)=======================\n",
            "{'max': 45, 'min': 8, 'avg': 25.8}\n",
            "Best:  62\n",
            "================(Epoch: 8 Generation: 800)=======================\n",
            "================(Epoch: 9 Generation: 900)=======================\n",
            "{'max': 54, 'min': 4, 'avg': 28.65}\n",
            "Best:  62\n",
            "================(Epoch: 9 Generation: 900)=======================\n",
            "================(Epoch: 10 Generation: 1000)=======================\n",
            "{'max': 43, 'min': 8, 'avg': 25.6}\n",
            "Best:  62\n",
            "================(Epoch: 10 Generation: 1000)=======================\n",
            "BEST:  [ True  True  True  True  True  True  True  True  True  True]\n",
            "==========Evaluation=============\n",
            "Achieved:  [62] Expected: [62]\n"
          ]
        }
      ],
      "source": [
        "!make maximization"
      ]
    },
    {
      "cell_type": "code",
      "execution_count": 5,
      "metadata": {
        "colab": {
          "base_uri": "https://localhost:8080/"
        },
        "id": "QTKKAo3A-WjE",
        "outputId": "37a39d2e-b67d-4a33-cdbf-b989ec0c7555"
      },
      "outputs": [
        {
          "output_type": "stream",
          "name": "stdout",
          "text": [
            "python -m src.examples.skills_optimization\n",
            "Generating Population With: \n",
            "\t- Gene Size: 6\n",
            "\t- Population Size: 10\n",
            "\t- Population Type: <class 'bool'>\n",
            "\t- Generations: 1000\n",
            "\t- Generations for each ephoch: 100\n",
            "\t- Selection Count: 10\n",
            "            \n",
            "================(Epoch: 1 Generation: 100)=======================\n",
            "{'max': 21, 'min': -2964, 'avg': -1077.2}\n",
            "Best:  26\n",
            "================(Epoch: 1 Generation: 100)=======================\n",
            "================(Epoch: 2 Generation: 200)=======================\n",
            "{'max': 26, 'min': -988, 'avg': -577.5}\n",
            "Best:  26\n",
            "================(Epoch: 2 Generation: 200)=======================\n",
            "================(Epoch: 3 Generation: 300)=======================\n",
            "{'max': 26, 'min': -2982, 'avg': -778.5}\n",
            "Best:  26\n",
            "================(Epoch: 3 Generation: 300)=======================\n",
            "================(Epoch: 4 Generation: 400)=======================\n",
            "{'max': 26, 'min': -988, 'avg': -878.9}\n",
            "Best:  26\n",
            "================(Epoch: 4 Generation: 400)=======================\n",
            "================(Epoch: 5 Generation: 500)=======================\n",
            "{'max': 26, 'min': -2991, 'avg': -1077.4}\n",
            "Best:  26\n",
            "================(Epoch: 5 Generation: 500)=======================\n",
            "================(Epoch: 6 Generation: 600)=======================\n",
            "{'max': 26, 'min': -988, 'avg': -578.4}\n",
            "Best:  26\n",
            "================(Epoch: 6 Generation: 600)=======================\n",
            "================(Epoch: 7 Generation: 700)=======================\n",
            "{'max': 23, 'min': -988, 'avg': -678.3}\n",
            "Best:  26\n",
            "================(Epoch: 7 Generation: 700)=======================\n",
            "================(Epoch: 8 Generation: 800)=======================\n",
            "{'max': 26, 'min': -988, 'avg': -777.6}\n",
            "Best:  26\n",
            "================(Epoch: 8 Generation: 800)=======================\n",
            "================(Epoch: 9 Generation: 900)=======================\n",
            "{'max': 26, 'min': -2964, 'avg': -876.6}\n",
            "Best:  26\n",
            "================(Epoch: 9 Generation: 900)=======================\n",
            "================(Epoch: 10 Generation: 1000)=======================\n",
            "{'max': 26, 'min': -2964, 'avg': -973.5}\n",
            "Best:  26\n",
            "================(Epoch: 10 Generation: 1000)=======================\n",
            "BEST:  [False False  True  True False  True]\n",
            "==========Evaluation=============\n",
            "[10  3  5]\n"
          ]
        }
      ],
      "source": [
        "!make skills"
      ]
    },
    {
      "cell_type": "markdown",
      "metadata": {
        "id": "xJGMbzcg89QP"
      },
      "source": [
        "# **O Problema: Caixeiro Viajante**\n",
        "\n",
        "\n",
        "Definição: O Caixeiro precisa passar por todas as cidades da rota utilizando o menor trajeto. \n",
        "\n",
        "## Distâncias entre as cidades:\n",
        "\n",
        "![image.png](data:image/png;base64,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)\n",
        "\n",
        "\n"
      ]
    },
    {
      "cell_type": "markdown",
      "metadata": {
        "id": "OaYx4big4Yd8"
      },
      "source": [
        "### Premiças\n",
        "\n",
        "\n",
        "1.   Deve passar por todas as viagens\n",
        "2.   Deve percorrer o menor caminho\n",
        "3.   Assume que o caixeiro está sempre na primeira cidade do trajeto"
      ]
    },
    {
      "cell_type": "markdown",
      "metadata": {
        "id": "NiO-JC9BCZBB"
      },
      "source": [
        "## Modelagem do Problema"
      ]
    },
    {
      "cell_type": "code",
      "execution_count": 58,
      "metadata": {
        "colab": {
          "base_uri": "https://localhost:8080/"
        },
        "id": "cbUHcFKJC-xx",
        "outputId": "4bf11b69-0cec-44e2-fe74-07c667b8b552"
      },
      "outputs": [
        {
          "output_type": "stream",
          "name": "stdout",
          "text": [
            "matriz de distancias:\n",
            " [[  0. 110.  inf 450.]\n",
            " [110.   0. 101. 300.]\n",
            " [ 70. 139.   0. 350.]\n",
            " [500. 300. 300.   0.]]\n"
          ]
        }
      ],
      "source": [
        "#@title Modelagem do Problema { run: \"auto\", vertical-output: true, display-mode: \"form\" }\n",
        "\n",
        "import sys\n",
        "import numpy as np\n",
        "from src import GeneticAlgorithm\n",
        "from src.utils.binary_ops import bitsNeededToNumber\n",
        "from src.utils.binary_ops import bitsToBytes\n",
        "\n",
        "dist1_2 = 110 #@param {type:\"slider\", min:-1, max:500, step:1}\n",
        "dist1_3 = -1 #@param {type:\"slider\", min:-1, max:500, step:1}\n",
        "dist1_4 = 450 #@param {type:\"slider\", min:-1, max:500, step:1}\n",
        "dist2_1 = 110 #@param {type:\"slider\", min:-1, max:500, step:1}\n",
        "dist2_3 = 101 #@param {type:\"slider\", min:-1, max:500, step:1}\n",
        "dist2_4 = 300 #@param {type:\"slider\", min:-1, max:500, step:1}\n",
        "dist3_1 = 70 #@param {type:\"slider\", min:-1, max:500, step:1}\n",
        "dist3_2 = 139 #@param {type:\"slider\", min:-1, max:500, step:1}\n",
        "dist3_4 = 350 #@param {type:\"slider\", min:-1, max:500, step:1}\n",
        "dist4_1 = 500 #@param {type:\"slider\", min:-1, max:500, step:1}\n",
        "dist4_2 = 300 #@param {type:\"slider\", min:-1, max:500, step:1}\n",
        "dist4_3 = 300 #@param {type:\"slider\", min:-1, max:500, step:1}\n",
        "\n",
        "distancias = np.array([\n",
        "  [0,dist1_2,dist1_3,dist1_4],\n",
        "  [dist2_1,0,dist2_3,dist2_4],\n",
        "  [dist3_1,dist3_2,0,dist3_4],\n",
        "  [dist4_1,dist4_2,dist4_3,0]            \n",
        "],dtype=float)\n",
        "\n",
        "distancias[distancias==-1] = np.inf\n",
        "\n",
        "print(\"matriz de distancias:\\n\",distancias)\n"
      ]
    },
    {
      "cell_type": "code",
      "execution_count": 14,
      "metadata": {
        "colab": {
          "base_uri": "https://localhost:8080/"
        },
        "id": "_aU4JtQIJ3P-",
        "outputId": "73902ff4-23b0-48d5-cba0-6ff65406dd04"
      },
      "outputs": [
        {
          "output_type": "stream",
          "name": "stdout",
          "text": [
            "caminho: 1->2->3->4\n",
            "distancias: 110.0->101.0->350.0->500.0 = 1061.0\n"
          ]
        }
      ],
      "source": [
        "#@title Editando manualmente { run: \"auto\", vertical-output: true }\n",
        "\n",
        "city1 = \"1\" #@param [1, 2, 3, 4]\n",
        "city2 = \"2\" #@param [1, 2, 3, 4]\n",
        "city3 = \"3\" #@param [1, 2, 3, 4]\n",
        "city4 = 4 #@param [1, 2, 3, 4]\n",
        "\n",
        "def calculaDist(travel):\n",
        "  travel_tuple = np.concatenate((travel.T,np.roll(travel.T,-1)),axis=1)-1\n",
        "  travelDists = distancias[travel_tuple[:,0],travel_tuple[:,1]]\n",
        "  return np.sum(travelDists), travelDists\n",
        "\n",
        "\n",
        "\n",
        "travel = np.array([[city1,city2,city3,city4]], np.int32)\n",
        "dist, dists = calculaDist(travel)\n",
        "\n",
        "if np.unique(travel).size<4:\n",
        "  print(\"caminho incompleto\")\n",
        "else:\n",
        "  print(\"caminho:\",  \"->\".join(map(str,travel[0].tolist())))\n",
        "  print(\"distancias:\",  \"->\".join(map(str,dists.tolist())),\"=\",dist)\n"
      ]
    },
    {
      "cell_type": "markdown",
      "metadata": {
        "id": "eZM0kSWP7y_0"
      },
      "source": [
        "### Parâmetros\n",
        "\n",
        "para inicializar o algoritmo genético precisamos de outros parâmetros que farão sentido conforme nos aprofundamos na modelagem do problema"
      ]
    },
    {
      "cell_type": "code",
      "execution_count": 8,
      "metadata": {
        "id": "z3s8Lw0TD3lX"
      },
      "outputs": [],
      "source": [
        "n_city = 4\n",
        "n_travel = 4 "
      ]
    },
    {
      "cell_type": "markdown",
      "metadata": {
        "id": "OFiiOLkR7Pg_"
      },
      "source": [
        "**n_city**: representa a contagem de cidades\n",
        "\n",
        "**n_travel**: representa o número de cidades da rota\n",
        "\n",
        "\n",
        "Aqui vamos utilizar esses valores para definir como serão as features da população. Assim iremos considerar as features como valores binários.\n",
        "\n",
        "\n",
        "---\n",
        "**Só para lembrar** \n",
        "\n",
        "A contagem dos números binários até 4:\n",
        "\n",
        "0.   0000\n",
        "1.   0001\n",
        "2.   0010\n",
        "3.   0011\n",
        "4.   0100\n",
        "5.   0101\n",
        "6.   0110\n",
        "7.   0111\n",
        "\n",
        "precisamos de somente 3 bits para contar até 4, todavia com 3 bits conseguimos contar até 7, mas vamos deixar esse problema para ser resolvido mais pra frente.\n",
        "\n",
        "Por hora vamos entender a transformação das features em valores:\n",
        "\\\n",
        "\\\n",
        "features:       001 010 011 0100\n",
        "\n",
        "problem_values: 1   2   3   4\n",
        "\\\n",
        "\\\n",
        "Outra coisa que precisamos observar é que estamos perdendo o número zero o que poderia chegar logicamente se considerarmos a primeira cidade como zero e não como 1. Então teríamos:\n",
        "\\\n",
        "\\\n",
        "\\\n",
        "features:       00  01 10 11 \n",
        "\n",
        "problem_values: 0   1  2   3  \n",
        "\\\n",
        "\\\n",
        "Isso reduziria drasticamente a quantidade de valores para o processador calcular.\n",
        "\n",
        "---\n",
        "\\\n",
        "\\\n",
        "Voltando à lógica do problema vamos utilizar **n_city-1** para definir o indexador das cidades:"
      ]
    },
    {
      "cell_type": "code",
      "execution_count": 9,
      "metadata": {
        "colab": {
          "base_uri": "https://localhost:8080/"
        },
        "id": "rG9fh4CqAEss",
        "outputId": "1a6c5d3a-8cf9-4873-a0ca-9224df6d3b4d"
      },
      "outputs": [
        {
          "output_type": "stream",
          "name": "stdout",
          "text": [
            "número de bits para n_city: 3 bits|features\n",
            "número de bits para n_city-1: 2 bits|features\n",
            "número de bits para a viagem: (gene_size=n_travel*nbits(n_city-1)) =>  8 bits|features\n"
          ]
        }
      ],
      "source": [
        "from src.utils.binary_ops import bitsNeededToNumber\n",
        "\n",
        "bits_per_city = bitsNeededToNumber(n_city)\n",
        "print(\"número de bits para n_city:\", bitsNeededToNumber(n_city), \"bits|features\")\n",
        "\n",
        "print(\"número de bits para n_city-1:\", bitsNeededToNumber(n_city-1), \"bits|features\")\n",
        "\n",
        "bits_per_travel = n_travel*bitsNeededToNumber(n_city-1)\n",
        "print(\"número de bits para a viagem: (gene_size=n_travel*nbits(n_city-1)) => \", bits_per_travel , \"bits|features\")"
      ]
    },
    {
      "cell_type": "code",
      "execution_count": 10,
      "metadata": {
        "colab": {
          "base_uri": "https://localhost:8080/"
        },
        "id": "TSv1ALY8Bbmc",
        "outputId": "49e05c0c-52f0-4eb4-ef4f-1b20173c31b0"
      },
      "outputs": [
        {
          "output_type": "stream",
          "name": "stdout",
          "text": [
            "features: [ True False  True False  True False False False]\n",
            "indexes:  [0 1 2 3 4 5 6 7]\n",
            "indexadores por cidade:\n",
            " [[0 1]\n",
            " [2 3]\n",
            " [4 5]\n",
            " [6 7]]\n",
            "features por cidade: [[ True False]\n",
            " [ True False]\n",
            " [ True False]\n",
            " [False False]]\n",
            "indexador de cidades: features (bits) to bytes (numeros): [2 2 2 0]\n",
            "usando a função de calculo de distancia:  600.0\n",
            "resumindo tudo em uma linha:  600.0\n"
          ]
        }
      ],
      "source": [
        "gene = np.random.choice([True,False], bits_per_travel,replace=True)\n",
        "print(\"features:\", gene)\n",
        "\n",
        "\n",
        "indexes = np.array(range(0,bits_per_travel))\n",
        "print(\"indexes: \", indexes)\n",
        "\n",
        "n_city_genes_index = indexes.reshape((-1,2))\n",
        "print(\"indexadores por cidade:\\n\", n_city_genes_index)\n",
        "\n",
        "print(\"features por cidade:\", gene[n_city_genes_index])\n",
        "\n",
        "\n",
        "\n",
        "from src.utils.binary_ops import bitsToBytes\n",
        "\n",
        "city_index = bitsToBytes(gene[n_city_genes_index])\n",
        "print(\"indexador de cidades: features (bits) to bytes (numeros):\", city_index)\n",
        "\n",
        "\n",
        "\n",
        "print(\"usando a função de calculo de distancia: \", calculaDist(city_index.reshape((1,-1)))[0])\n",
        "print(\"resumindo tudo em uma linha: \", calculaDist(bitsToBytes(gene[indexes.reshape((-1,2))]).reshape((1,-1)))[0])"
      ]
    },
    {
      "cell_type": "markdown",
      "metadata": {
        "id": "AkVlZQ2gIYow"
      },
      "source": [
        "### Definindo a função objetivo (fitness):\n",
        "\n",
        "Aqui também precisamos entender se este é um problema de minimização ou maximização. No caso do caixeiro vamos modelar a viagem para ter a menor distância."
      ]
    },
    {
      "cell_type": "code",
      "execution_count": 41,
      "metadata": {
        "colab": {
          "base_uri": "https://localhost:8080/"
        },
        "id": "GGcqRe65IX4d",
        "outputId": "cdded326-91b3-4276-a933-897597df9d97"
      },
      "outputs": [
        {
          "output_type": "stream",
          "name": "stdout",
          "text": [
            "travel path:  [[3 2 3 2]]\n",
            "travel distances:  [139. 101. 139. 101.]\n",
            "total distance:  480.0\n",
            "PenaltyMode: progressive\n",
            "TotalPenalty: 40000\n",
            "Observe que a fitness as vezes pode retornar inf devido a nossa modelagem:  40480.0\n"
          ]
        }
      ],
      "source": [
        "#@title Parametros da Fitness { run: \"auto\", vertical-output: true }\n",
        "\n",
        "\n",
        "\n",
        "fitness_debug = False #@param {type:\"boolean\"}\n",
        "alow_zero_distance_penalty = False #@param {type:\"boolean\"}\n",
        "penalty_zero_distance = 10000 #@param {type:\"slider\", min:0, max:10000, step:10}\n",
        "alow_missing_city_travel = False #@param {type:\"boolean\"}\n",
        "penalty_missing_city_travel = 10000 #@param {type:\"slider\", min:0, max:10000, step:10}\n",
        "alow_progressive_penalty = True #@param {type:\"boolean\"}\n",
        "\n",
        "\n",
        "\n",
        "gene = np.random.choice([False,True], bits_per_travel,replace=True)\n",
        "\n",
        "bits_per_city = bitsNeededToNumber(n_city-1)\n",
        "bits_per_travel = n_travel*bits_per_city\n",
        "\n",
        "\n",
        "indexes = np.array(range(0,bits_per_travel))\n",
        "\n",
        "\n",
        "\n",
        "def fitness(gene, evaluate=False, debug=False):\n",
        "  \n",
        "  if(debug): print(\"features:\", gene)\n",
        "  if(debug): print(\"features.size:\", gene.size)\n",
        "  if(debug): print(\"features.shape:\", gene.shape)\n",
        "  if(debug): print(\"features.shape.size:\", len(gene.shape))\n",
        "  \n",
        "  if(len(gene.shape)): gene = gene.reshape((1,-1))\n",
        "\n",
        "  indexes = np.array(range(0,bits_per_travel))\n",
        "  if(debug): print(\"indexes: \", indexes)\n",
        "\n",
        "  n_city_genes_index = indexes.reshape((-1,2))\n",
        "  if(debug): print(\"indexadores por cidade:\\n\", n_city_genes_index)\n",
        "\n",
        "  features_by_city = gene[:,n_city_genes_index].reshape((n_city,bits_per_city))\n",
        "  if(debug): print(\"features por cidade:\\n\", features_by_city)\n",
        "\n",
        "\n",
        "\n",
        "  \n",
        "\n",
        "  cities = (bitsToBytes(features_by_city)+1).reshape((1,-1))\n",
        "  if(debug): print(\"indexador de cidades: features (bits) to bytes (numeros):\", cities)\n",
        "  \n",
        "  (travel_dist, travel_distances) = calculaDist(cities)\n",
        "\n",
        "  if(debug | evaluate): print(\"travel path: \", cities)\n",
        "  if(evaluate): print(\"travel distances: \", travel_distances)\n",
        "  if(evaluate): print(\"total distance: \", travel_dist)\n",
        "  \n",
        "  \n",
        "  \n",
        "  score = travel_dist\n",
        "  penalty = 0\n",
        "  if (alow_progressive_penalty):\n",
        "    if (evaluate): print(\"PenaltyMode: progressive\")    \n",
        "    if (not alow_zero_distance_penalty & np.sum((travel_distances == 0))>0): penalty = penalty+np.sum((travel_distances == 0))*penalty_zero_distance\n",
        "    (unique, counts) = np.unique(cities, return_counts=True)\n",
        "    if (not alow_missing_city_travel & (np.sum(counts>1)>0)): penalty = penalty + np.sum(counts[counts>1]*penalty_missing_city_travel)\n",
        "\n",
        "  else:\n",
        "    if (evaluate): print(\"PenaltyMode: fixed\")    \n",
        "    if (not alow_zero_distance_penalty & (travel_dist == 0.0)): penalty = penalty+penalty_zero_distance\n",
        "    \n",
        "    if (debug): print(\"penalty_missing_city_travel condition: \", not alow_missing_city_travel, np.unique(cities).size != n_city)\n",
        "    if (not alow_missing_city_travel & (np.unique(cities).size != n_city)): \n",
        "      if (debug): print(\"Penalty: penalty_missing_city_travel\")  \n",
        "      penalty = penalty + penalty_missing_city_travel\n",
        "\n",
        "  if (evaluate): print(\"TotalPenalty:\", penalty)\n",
        "  return score + penalty\n",
        "\n",
        "print(\"Observe que a fitness as vezes pode retornar inf devido a nossa modelagem: \",fitness(gene,evaluate=True,debug=fitness_debug))"
      ]
    },
    {
      "cell_type": "code",
      "execution_count": 59,
      "metadata": {
        "colab": {
          "base_uri": "https://localhost:8080/"
        },
        "id": "Plz_NzPg8Yh8",
        "outputId": "4fad3cb2-89d6-4b62-fefe-a4f441b3b9fc"
      },
      "outputs": [
        {
          "output_type": "stream",
          "name": "stdout",
          "text": [
            "Generating Population With: \n",
            "                    \r\t- Gene Size: 8\n",
            "                    \r\t- Population Size: 3\n",
            "                    \r\t- Population Type: <class 'bool'>\n",
            "                    \r\t- Generations: 70\n",
            "                    \r\t- Generations for each ephoch: 10\n",
            "                    \r\t- Selection Count: 1\n",
            "            \n",
            "================(Epoch: 1 Generation: 10)=======================\n",
            "{'max': 30860.0, 'min': 20890.0, 'avg': 27496.333333333332}\n",
            "Best:  921.0\n",
            "================(Epoch: 1 Generation: 10)=======================\n",
            "================(Epoch: 2 Generation: 20)=======================\n",
            "{'max': inf, 'min': 30739.0, 'avg': inf}\n",
            "Best:  780.0\n",
            "================(Epoch: 2 Generation: 20)=======================\n",
            "================(Epoch: 3 Generation: 30)=======================\n",
            "{'max': inf, 'min': 50600.0, 'avg': inf}\n",
            "Best:  780.0\n",
            "================(Epoch: 3 Generation: 30)=======================\n",
            "================(Epoch: 4 Generation: 40)=======================\n",
            "{'max': 60650.0, 'min': 30739.0, 'avg': 40736.333333333336}\n",
            "Best:  780.0\n",
            "================(Epoch: 4 Generation: 40)=======================\n",
            "================(Epoch: 5 Generation: 50)=======================\n",
            "{'max': inf, 'min': 21550.0, 'avg': inf}\n",
            "Best:  780.0\n",
            "================(Epoch: 5 Generation: 50)=======================\n",
            "================(Epoch: 6 Generation: 60)=======================\n",
            "{'max': inf, 'min': 50240.0, 'avg': inf}\n",
            "Best:  780.0\n",
            "================(Epoch: 6 Generation: 60)=======================\n",
            "================(Epoch: 7 Generation: 70)=======================\n",
            "{'max': 60220.0, 'min': 30751.0, 'avg': 47307.0}\n",
            "Best:  780.0\n",
            "================(Epoch: 7 Generation: 70)=======================\n",
            "==========Evaluation=============\n",
            "travel path:  [[2 4 3 1]]\n",
            "travel distances:  [300. 300.  70. 110.]\n",
            "total distance:  780.0\n",
            "PenaltyMode: progressive\n",
            "TotalPenalty: 0\n",
            "last_scores:\n",
            " [[30751.]]\n"
          ]
        }
      ],
      "source": [
        "#@title Parametros da Fitness { vertical-output: true }\n",
        "\n",
        "ga_verbose = True #@param {type:\"boolean\"}\n",
        "ga_fitness_maximization = False #@param {type:\"boolean\"}\n",
        "ga_ephochs = 70 #@param {type:\"slider\", min:10, max:1000, step:10}\n",
        "ga_ephoc_generations = 10 #@param {type:\"slider\", min:10, max:1000, step:10}\n",
        "ga_population_size = 3 #@param {type:\"slider\", min:0, max:1000, step:1}\n",
        "ga_selection_count = 1 #@param {type:\"slider\", min:0, max:1000, step:1}\n",
        "ga_mutation_prob = 0.67 #@param {type:\"slider\", min:0, max:1, step:0.01}\n",
        "\n",
        "# print('nbits:', bits_per_city)\n",
        "\n",
        "\n",
        "ga = GeneticAlgorithm.GA(\n",
        "    genome_size=bits_per_travel,\n",
        "    selection_count=ga_selection_count,\n",
        "    population_size=ga_population_size,\n",
        "    epochs=ga_ephochs, \n",
        "    ephoc_generations=ga_ephoc_generations, \n",
        "    maximization=ga_fitness_maximization)\n",
        "\n",
        "ga.debug = fitness_debug\n",
        "ga.verbose = ga_verbose\n",
        "ga.mutation_prob = ga_mutation_prob\n",
        "best, pop, score = ga.run(fitness, multiple=False)\n",
        "# print(score)\n",
        "\n",
        "def evaluate(gene):\n",
        "    print('==========Evaluation=============')\n",
        "    fitness(gene, evaluate=ga_verbose, debug=ga.debug)\n",
        "    \n",
        "\n",
        "evaluate(np.array([best]))\n",
        "print(\"last_scores:\\n\", score.reshape((-1,1)))\n",
        "\n",
        "\n"
      ]
    },
    {
      "cell_type": "code",
      "execution_count": 12,
      "metadata": {
        "id": "mBM32UGD8Lk9"
      },
      "outputs": [],
      "source": [
        ""
      ]
    },
    {
      "cell_type": "markdown",
      "source": [
        "#Proposta de Desenvolvimento\n",
        "\n",
        "1. [Jogo: Senha](https://www.google.com/search?q=Jogo+qual+%C3%A9+a+senha&newwindow=1&rlz=1C1BNSD_enBR998&sxsrf=APq-WBvpPkKCJeVwWS2WX_Zf9woi9DAXeA:1648663157148&tbm=isch&source=iu&ictx=1&vet=1&fir=uAGhU4aTXtHAEM%252Ca2K1w6NPNPVIGM%252C%252Fm%252F01hmjt%253BU4QHhURQafl4qM%252C-56sSN5hZWrt3M%252C_%253BhEDcPXOeDZQndM%252CYNhbIjaNPyAzVM%252C_%253B0OXHUwBcmdyPNM%252CSFIHneoMT23rrM%252C_%253BN1aTjvXpMntiSM%252CUCRRRP-_qvpVJM%252C_&usg=AI4_-kTKk6bU-i1TP1atSWKXiFLJvIWXYA&sa=X&ved=2ahUKEwj33dfutO72AhXkg5UCHafRBS8Q_B16BAgeEAE#imgrc=cRBbrzi9kveB9M)\n",
        "\n",
        "\n",
        "2. [Teste de Einstein](https://rachacuca.com.br/logica/problemas/teste-de-einstein/)"
      ],
      "metadata": {
        "id": "ApCOD2jT-Vdf"
      }
    }
  ],
  "metadata": {
    "colab": {
      "collapsed_sections": [],
      "name": "Aplicação Algoritmos Genéticos.ipynb",
      "provenance": [],
      "authorship_tag": "ABX9TyO7CBSFqHiycNw6DbkRQfm9",
      "include_colab_link": true
    },
    "kernelspec": {
      "display_name": "Python 3",
      "name": "python3"
    },
    "language_info": {
      "name": "python"
    }
  },
  "nbformat": 4,
  "nbformat_minor": 0
}